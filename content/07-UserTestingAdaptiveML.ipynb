{
 "cells": [
  {
   "cell_type": "markdown",
   "metadata": {},
   "source": [
    "# User Testing of Adaptive ML"
   ]
  },
  {
   "cell_type": "markdown",
   "metadata": {},
   "source": [
    "## Hands-On: Testing Movie Recommendation Services"
   ]
  },
  {
   "cell_type": "markdown",
   "metadata": {
    "tags": []
   },
   "source": [
    "### Scenario"
   ]
  },
  {
   "cell_type": "markdown",
   "metadata": {
    "tags": []
   },
   "source": [
    "Consider the personal media streaming solution [Emby](https://emby.media) that incorporates features for recommending movies to users based on their individual likes and viewing habits, as well as similarities among titles. "
   ]
  },
  {
   "cell_type": "markdown",
   "metadata": {
    "tags": []
   },
   "source": [
    "#### Purpose of the System"
   ]
  },
  {
   "cell_type": "markdown",
   "metadata": {
    "tags": []
   },
   "source": [
    "At its core, Emby is designed to organize, play, and stream audio and video to a variety of devices. Users can connect to a media server from a compatible client to browse and stream content.  Available client applications include:\n",
    "* Web Browsers with HTML5 Support\n",
    "* Mobile Platforms: Android and iOS\n",
    "* Streaming Devices: Roku, Amazon Fire TV, Chromecast, and Apple TV\n",
    "* Smart TV Platforms: Samsung, LG\n",
    "* Video Game Consoles: XBOX One S/X, PS4, PS5"
   ]
  },
  {
   "cell_type": "markdown",
   "metadata": {
    "tags": []
   },
   "source": [
    "#### Recommendation Services"
   ]
  },
  {
   "cell_type": "markdown",
   "metadata": {
    "tags": []
   },
   "source": [
    "Emby provides three different services for recommending movies to its viewers.  These services are described as follows:"
   ]
  },
  {
   "cell_type": "markdown",
   "metadata": {
    "tags": []
   },
   "source": [
    "##### **More Like This**"
   ]
  },
  {
   "cell_type": "markdown",
   "metadata": {
    "jp-MarkdownHeadingCollapsed": true,
    "tags": []
   },
   "source": [
    "Suggests a set of movies that are similar to a given title. It has the goal of learning a [similarity function](https://en.wikipedia.org/wiki/Similarity_learning) that measures how closely related titles are to each other. \n",
    "\n",
    "<img src=\"../img/emby_more_like_this_feature.gif\" width=\"700\"/>"
   ]
  },
  {
   "cell_type": "markdown",
   "metadata": {},
   "source": [
    "In a library of over 5000 movies spanning over 20 different genres, when [Jungle Cruise (2021)](https://www.imdb.com/title/tt0870154/) is selected for a new user, the system recommends the following titles in the _more like this_ section:\n",
    "\n",
    "1. Pirates of the Caribbean: Dead Men Tell No Tales (2017)\n",
    "2. Jumanji: Welcome to the Jungle (2017)\n",
    "3. Jumanji: The Next Level (2019)\n",
    "4. Thor: Ragnarok (2017)\n",
    "5. Coco (2017)\n",
    "6. The Predator (2018)\n",
    "7. Frozen II (2019)\n",
    "8. Christopher Robin (2018)\n",
    "9. Flora & Ulysses (2021)\n",
    "10. Onward (2020)\n",
    "11. Toy Story 4 (2019)\n",
    "12. Night at the Museum (2014)\n"
   ]
  },
  {
   "cell_type": "markdown",
   "metadata": {
    "tags": []
   },
   "source": [
    "##### **Because You Like**"
   ]
  },
  {
   "cell_type": "markdown",
   "metadata": {},
   "source": [
    "Provides a mechanism that allows a user to add a given title to their _favorites list_, and suggests a set of movies that the user may also like. The system documentation does not specify exactly how the application implements the _Because you like \\<title name\\>_ suggestions, other than it leverages an [adaptive algorithm](https://en.wikipedia.org/wiki/Adaptive_algorithm) that modifies its recommendations over time based on user feedback.\n",
    "\n",
    "<img src=\"../img/emby_because_you_like_feature.gif\" width=700/>\n"
   ]
  },
  {
   "cell_type": "markdown",
   "metadata": {},
   "source": [
    "When [Jungle Cruise (2021)](https://www.imdb.com/title/tt0870154/) is added as a favorite, it appears that the same titles suggest by _more like this_ feature appear in the _because you like_ section. However, the order in which the suggested titles appear are different."
   ]
  },
  {
   "cell_type": "markdown",
   "metadata": {
    "tags": []
   },
   "source": [
    "##### **Because You Watched**"
   ]
  },
  {
   "cell_type": "markdown",
   "metadata": {},
   "source": [
    "Once a user watches a given title, or flags it as _played_, the system creates a new line of suggestions on the home screen called _Because you watched \\<title name\\>_.  Similar to **Because You Like**, this feature also uses an [adaptive algorithm](https://en.wikipedia.org/wiki/Adaptive_algorithm) to implement suggestions."
   ]
  },
  {
   "cell_type": "markdown",
   "metadata": {},
   "source": [
    "<img src=\"../img/emby_because_you_watched_feature.gif\" width=\"700\"/>"
   ]
  },
  {
   "cell_type": "markdown",
   "metadata": {
    "tags": []
   },
   "source": [
    "### Exercise"
   ]
  },
  {
   "cell_type": "markdown",
   "metadata": {},
   "source": [
    "Quality can be defined as value to a stakeholder or set of stakeholders. For this exercise, put on your software tester hat and consider the end-user as the principal stakeholder.  Select one or more of the recommendation services described in the scenario, and formulate a test plan that describes how you will approach the challenge of ensuring that the service:\n",
    "* Does what it was intended to do?\n",
    "* Does not do things that it was not intended to do?\n",
    "\n",
    "#### Tips and Considerations\n",
    "You may find it useful to consider or specify:\n",
    "* Goals and objectives from a quality perspective\n",
    "  * What does success look like?  \n",
    "  * How will it be measured?\n",
    "* Risks and mitigation strategies\n",
    "  * What are some of the risks that threaten product success?\n",
    "  * Which aspects of the selected services pose the biggest threat?\n",
    "  * Does testing address those risks? If so, how? \n",
    "  * How else will risks be mitigated?\n",
    "* Testing activities to be done\n",
    "  * What types of testing will be performed?\n",
    "  * At what point(s) in the project lifecycle will testing be performed?\n",
    "  * Who will perform the testing?\n",
    "* Acceptance and stopping criteria\n",
    "  * What determines whether or not the service is acceptable?\n",
    "  * How will you know when to stop testing?\n",
    "* Big Picture\n",
    "  * What does that overarching test strategy look like?\n",
    "  * Where does this service/component test plan fit into the overall strategy? \n",
    "  \n",
    "  \n",
    "  \n",
    "  \n",
    "  "
   ]
  }
 ],
 "metadata": {
  "kernelspec": {
   "display_name": "Python 3",
   "language": "python",
   "name": "python3"
  },
  "language_info": {
   "codemirror_mode": {
    "name": "ipython",
    "version": 3
   },
   "file_extension": ".py",
   "mimetype": "text/x-python",
   "name": "python",
   "nbconvert_exporter": "python",
   "pygments_lexer": "ipython3",
   "version": "3.8.8"
  }
 },
 "nbformat": 4,
 "nbformat_minor": 4
}
