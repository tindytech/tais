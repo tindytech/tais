{
 "cells": [
  {
   "cell_type": "markdown",
   "metadata": {
    "tags": []
   },
   "source": [
    "# Training and Testing a Teachable Machine"
   ]
  },
  {
   "cell_type": "markdown",
   "metadata": {},
   "source": [
    "In this set of hands on activities, you are going to use a web-based tool called the Teachable Machine to train a machine learning model to classify images, sounds, or poses. After you're comfortable with how the machine works, you'll be introduced to the world of testing ML from the outside."
   ]
  },
  {
   "cell_type": "markdown",
   "metadata": {
    "tags": []
   },
   "source": [
    "## Hands-On With The Teachable Machine: First Look"
   ]
  },
  {
   "cell_type": "markdown",
   "metadata": {},
   "source": [
    "<img style=\"float: right; margin: 15px 15px 15px 15px;\" src=\"../img/teachablemachine.gif\" width=\"250\">\n",
    "\n",
    "Teachable Machine is a web-based tool that makes creating machine learning models fast, easy, and accessible to everyone.  The teachable Machine is flexible – use files or capture examples live. It’s respectful of the way you work. You can choose to use it entirely on-device, without any webcam or microphone data leaving your computer. To use the teachable machine, you'll follow the procedure of **gather**, **train**, and **export** (optional).\n",
    "\n",
    "#### [Gather](https://www.youtube.com/watch?v=DFBbSTvtpy4)\n",
    "Gather and group your examples into classes, or categories, that you want the computer to learn.\n",
    "\n",
    "#### [Train](https://www.youtube.com/watch?v=CO67EQ0ZWgA)\n",
    "Train your model, then instantly test it out to see whether it can correctly classify new examples.\n",
    "\n",
    "#### [Export](https://www.youtube.com/watch?v=n-zeeRLBgd0)\n",
    "Export your model for your projects: sites, apps, and more. You can download your model or host it online for free.\n",
    "\n",
    "### Try It Yourself\n",
    "**Step 1.** Navigate to the [Teachable Machine](https://teachablemachine.withgoogle.com).  \n",
    "\n",
    "**Step 2.** After watching the [Introduction Video](https://www.youtube.com/watch?v=T2qQGqZxkD0), click on [Get Started](https://teachablemachine.withgoogle.com/train).\n",
    "\n",
    "**Step 3.** Select a project type: [Image Project](https://teachablemachine.withgoogle.com/train/image) (Standard Model), [Audio Project](https://teachablemachine.withgoogle.com/train/audio), or [Pose Project](https://teachablemachine.withgoogle.com/train/pose).\n",
    "\n",
    "**Step 4.** Train your first machine learning model by following the on-screen instructions.\n",
    "\n",
    "### Need Help?\n",
    "If the on-screen instructions aren't clear enough, click on [Gather](https://www.youtube.com/watch?v=DFBbSTvtpy4), [Train](https://www.youtube.com/watch?v=CO67EQ0ZWgA), or [Export](https://www.youtube.com/watch?v=n-zeeRLBgd0) to watch videos of each step in the process."
   ]
  },
  {
   "cell_type": "markdown",
   "metadata": {
    "tags": []
   },
   "source": [
    "## Hands-On With The Teachable Machine: Can You Break The Machine?"
   ]
  },
  {
   "cell_type": "markdown",
   "metadata": {},
   "source": [
    "Neural networks are good at pattern recognition, but they can be easily fooled. For example, pixels maliciously added to medical scans could fool a deep neural network (DNN) into wrongly detecting cancer. With many deep learning systems such as self-driving cars, crime detection systems, and medical diagnosis tools now moving from the lab into the real world, it has become increasingly important to:\n",
    "1. Migrate existing software testing strategies, methods, and techniques to the world of AI/ML where applicable. \n",
    "2. Develop new testing strategies, methods, and techniques in areas not covered by existing approaches. \n",
    "\n",
    "### Exercise\n",
    "* Devise a strategy that seeks to trick the teachable machine’s image, speech, or pose recognition.\n",
    "* Now put that strategy into action by applying a set of test cases to the machine with the goal of causing it to fail at its task.\n",
    "\n",
    "### Discussion\n",
    "Once you've implemented and tested out your strategy, feel free to share your approach, findings, and experience with the class during the follow up discssion.\n",
    "\n",
    "### Need Help?\n",
    "Having a hard time thinking of ways to break the machine?  Remember, you're not actually breaking the machine, just exposing where it is already broken.  Testers generally apply a number of techniques and heuristics to look for bugs in traditional software.  Browse the _Exploratory Testing_ section of the training cheatsheet.  Perhaps some of the listed heuristics can help you with ideas for generating tests for the teachable machine.  Happy Testing!\n",
    "\n"
   ]
  }
 ],
 "metadata": {
  "kernelspec": {
   "display_name": "Python 3",
   "language": "python",
   "name": "python3"
  },
  "language_info": {
   "codemirror_mode": {
    "name": "ipython",
    "version": 3
   },
   "file_extension": ".py",
   "mimetype": "text/x-python",
   "name": "python",
   "nbconvert_exporter": "python",
   "pygments_lexer": "ipython3",
   "version": "3.8.8"
  }
 },
 "nbformat": 4,
 "nbformat_minor": 4
}
